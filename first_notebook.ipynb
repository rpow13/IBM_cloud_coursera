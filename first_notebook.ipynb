{
    "cells": [
        {
            "metadata": {
                "collapsed": true
            },
            "cell_type": "markdown",
            "source": "# My Jupyter Notebook on IBM Watson Studio"
        },
        {
            "metadata": {},
            "cell_type": "markdown",
            "source": "**Robert Powell**\n\nComputer Engineer"
        },
        {
            "metadata": {},
            "cell_type": "markdown",
            "source": "*I am interested in data science because using computers to gain insights out of large datasets can yield interesting discoveries and has tremendous potential in fields such as medicine.*"
        },
        {
            "metadata": {},
            "cell_type": "markdown",
            "source": "### The below code will demonstrate basic python addition\n\n"
        },
        {
            "metadata": {},
            "cell_type": "code",
            "source": "1+1",
            "execution_count": 2,
            "outputs": [
                {
                    "output_type": "execute_result",
                    "execution_count": 2,
                    "data": {
                        "text/plain": "2"
                    },
                    "metadata": {}
                }
            ]
        },
        {
            "metadata": {},
            "cell_type": "markdown",
            "source": "### Markdown examples\n\n---\n* bullet item 1\n* bullet item 2\n---\n1. numbered list item 1\n2. numbered list item 2\n---\n\n| Type | Example |\n| ----------- | ----------- |\n| Code | ```print()``` |\n| hyperlink | [IBM Dataplatform](https://dataplatform.cloud.ibm.com/) |\n"
        },
        {
            "metadata": {},
            "cell_type": "code",
            "source": "",
            "execution_count": null,
            "outputs": []
        }
    ],
    "metadata": {
        "kernelspec": {
            "name": "python3",
            "display_name": "Python 3.10",
            "language": "python"
        },
        "language_info": {
            "name": "python",
            "version": "3.10.6",
            "mimetype": "text/x-python",
            "codemirror_mode": {
                "name": "ipython",
                "version": 3
            },
            "pygments_lexer": "ipython3",
            "nbconvert_exporter": "python",
            "file_extension": ".py"
        }
    },
    "nbformat": 4,
    "nbformat_minor": 1
}